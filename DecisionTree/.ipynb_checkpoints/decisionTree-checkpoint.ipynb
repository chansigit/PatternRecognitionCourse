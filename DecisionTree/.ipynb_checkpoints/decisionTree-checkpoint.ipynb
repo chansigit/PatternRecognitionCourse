{
 "cells": [
  {
   "cell_type": "code",
   "execution_count": 225,
   "metadata": {
    "collapsed": false
   },
   "outputs": [
    {
     "name": "stdout",
     "output_type": "stream",
     "text": [
      "[1, 2, 3]\n",
      "Node 纹理 has sons:\n",
      ">根蒂\n",
      ">触感\n",
      ">颜色\n",
      "Node 根蒂 has sons:\n",
      ">leaf\n",
      ">色泽\n",
      ">leaf\n",
      "Reach Leaf:好瓜\n",
      "Node 色泽 has sons:\n",
      ">None\n",
      "--------------\n",
      "Reach Leaf:坏瓜\n",
      "--------------\n",
      "Node 触感 has sons:\n",
      ">None\n",
      "--------------\n",
      "Node 颜色 has sons:\n",
      ">None\n",
      "--------------\n",
      "--------------\n",
      "\n",
      "\n",
      "&&&&&&&&&&&&&&&&&&&&&&&&&\n",
      "Node 纹理 has sons:\n",
      ">根蒂\n",
      ">触感\n",
      ">颜色\n",
      "Node 根蒂 has sons:\n",
      ">leaf\n",
      ">leaf\n",
      "Reach Leaf:好瓜\n",
      "Reach Leaf:坏瓜\n",
      "--------------\n",
      "Node 触感 has sons:\n",
      ">None\n",
      "--------------\n",
      "Node 颜色 has sons:\n",
      ">None\n",
      "--------------\n",
      "--------------\n"
     ]
    }
   ],
   "source": [
    "class TreeNode:\n",
    "    def __init__(self, attrName):\n",
    "        self.attr=attrName\n",
    "        self.son= dict()\n",
    "        self.isLeaf=False\n",
    "        self.leafLabel=None\n",
    "        \n",
    "    def getAttr(self):\n",
    "        return self.attr\n",
    "    \n",
    "    def setAttr(self, attrName):\n",
    "        self.attr=attrName\n",
    "    \n",
    "    def addSon(self, attrVal, subTree):\n",
    "        self.son[attrVal]=subTree\n",
    "    \n",
    "    def getAllSon(self):\n",
    "        return list(self.son.values())\n",
    "    \n",
    "    def getSonByAttrVal(self, attrVal):\n",
    "        return self.son[attrVal]\n",
    "    \n",
    "    def getCurrentAttrDivision(self):\n",
    "        return list(self.son.keys())\n",
    "    \n",
    "    def setLeaf(self, label):\n",
    "        self.isLeaf=True\n",
    "        self.leafLabel=label\n",
    "        \n",
    "        \n",
    "class Tree:\n",
    "    def __init__(self, rootNode):\n",
    "        self.root=rootNode\n",
    "        \n",
    "    def add(self,nextAttrName,currentVal):\n",
    "        if self.root==None:\n",
    "            return\n",
    "        subTree=Tree(TreeNode(nextAttrName))\n",
    "        self.root.addSon(currentVal,subTree)\n",
    "            \n",
    "    def printTree(self):\n",
    "        if self.root==None:\n",
    "            return\n",
    "        if self.root.isLeaf:\n",
    "            print(\"Reach Leaf:%s\"%self.root.leafLabel)\n",
    "            return\n",
    "        print(\"Node %s has sons:\"%(self.root.getAttr()))\n",
    "        \n",
    "        for subtree in self.root.getAllSon():\n",
    "            if subtree.root==None:\n",
    "                continue\n",
    "            print(\">\"+subtree.root.getAttr())\n",
    "        subtrees=self.root.getAllSon()\n",
    "        for subtree in subtrees:\n",
    "            subtree.printTree()\n",
    "        if subtrees==[]:\n",
    "            print(\">None\")\n",
    "        print(\"--------------\")\n",
    "        \n",
    "    def deleteTree(self):\n",
    "        self.root=None\n",
    "        \n",
    "t=Tree(TreeNode(\"纹理\"))\n",
    "t.add(nextAttrName=\"根蒂\", currentVal=1)\n",
    "t.add(nextAttrName=\"触感\", currentVal=2)\n",
    "t.add(nextAttrName=\"颜色\", currentVal=3)\n",
    "print(t.root.getCurrentAttrDivision())\n",
    "\n",
    "\n",
    "s1=t.root.getSonByAttrVal(1)\n",
    "s1.add(nextAttrName=\"leaf\", currentVal=1)\n",
    "s1.add(nextAttrName=\"色泽\", currentVal=2)\n",
    "s1.add(nextAttrName=\"leaf\", currentVal=3)\n",
    "s1.root.getSonByAttrVal(1).root.setLeaf(\"好瓜\")\n",
    "s1.root.getSonByAttrVal(3).root.setLeaf(\"坏瓜\")\n",
    "t.printTree()\n",
    "\n",
    "print(\"\\n\\n&&&&&&&&&&&&&&&&&&&&&&&&&\")\n",
    "s1.root.getSonByAttrVal(2).deleteTree()\n",
    "t.printTree()\n",
    "\n",
    "\n",
    "\n",
    "\n",
    "\n"
   ]
  },
  {
   "cell_type": "code",
   "execution_count": 503,
   "metadata": {
    "collapsed": false,
    "scrolled": true
   },
   "outputs": [
    {
     "name": "stdout",
     "output_type": "stream",
     "text": [
      "train size=11520\n",
      "test size=2880\n"
     ]
    },
    {
     "data": {
      "text/plain": [
       "(11520, 1201)"
      ]
     },
     "execution_count": 503,
     "metadata": {},
     "output_type": "execute_result"
    }
   ],
   "source": [
    "\n",
    "import scipy.io\n",
    "rawData = scipy.io.loadmat('Sogou_data/Sogou_webpage.mat')\n",
    "docLabels   = rawData['doclabel']\n",
    "wordVectors = rawData['wordMat']\n",
    "docCnt=len(docLabels)\n",
    "wordCnt =wordVectors.shape[1]\n",
    "\n",
    "\n",
    "import numpy as np\n",
    "import pandas as pd\n",
    "df_wordVectors = pd.DataFrame(data=docLabels, columns=['label'])\n",
    "df_docLabels   = pd.DataFrame(wordVectors,columns=[str(x) for x in range(1,1+wordCnt)])\n",
    "cleanData = pd.concat([df_wordVectors, df_docLabels], axis=1)\n",
    "(cleanData[cleanData['label']==9]).shape[0]\n",
    "\n",
    "labelCnt=len(set(cleanData['label']))\n",
    "\n",
    "\n",
    "train = cleanData.sample(frac=0.8)\n",
    "test = cleanData.drop(train.index)\n",
    "\n",
    "print(\"train size=%d\"%len(train))\n",
    "print(\"test size=%d\"%len(test))\n",
    "train.shape\n",
    "#train[train['label']==9]\n",
    "#train"
   ]
  },
  {
   "cell_type": "code",
   "execution_count": 412,
   "metadata": {
    "collapsed": false
   },
   "outputs": [
    {
     "data": {
      "text/plain": [
       "8"
      ]
     },
     "execution_count": 412,
     "metadata": {},
     "output_type": "execute_result"
    }
   ],
   "source": [
    "#(train.iloc[:,0:1+5])\n",
    "labels=train['label']\n",
    "#print(labels)\n",
    "type(labels)\n",
    "train.iloc[11519,1:].equals(train.iloc[11519,1:])\n",
    "#train.shape\n",
    "C=pd.Series.mode(labels)[0]\n",
    "C"
   ]
  },
  {
   "cell_type": "code",
   "execution_count": 293,
   "metadata": {
    "collapsed": false
   },
   "outputs": [
    {
     "ename": "SyntaxError",
     "evalue": "unexpected EOF while parsing (<ipython-input-293-e90841c6f813>, line 7)",
     "output_type": "error",
     "traceback": [
      "\u001b[0;36m  File \u001b[0;32m\"<ipython-input-293-e90841c6f813>\"\u001b[0;36m, line \u001b[0;32m7\u001b[0m\n\u001b[0;31m    \u001b[0m\n\u001b[0m    ^\u001b[0m\n\u001b[0;31mSyntaxError\u001b[0m\u001b[0;31m:\u001b[0m unexpected EOF while parsing\n"
     ]
    }
   ],
   "source": [
    "def identicalRows(df):\n",
    "    for rowID in range(len(df)-1):\n",
    "        if not df.iloc[rowID,1:].equals(df.iloc[rowID+1,1:]):\n",
    "            return False\n",
    "    return True\n",
    "    \n",
    "\n",
    "def treeGeneration(Dataset, Attributes):\n",
    "    labels=train['label']\n",
    "    \n",
    "    # 1. 生成空节点node\n",
    "    node = TreeNode(attrName=\"\") \n",
    "    tree = Tree(rootNode=node)\n",
    "    \n",
    "    # 2. Boundary Case 1\n",
    "    if len(set(labels))==1: # 如果Dataset中的样本全属于同一类别C\n",
    "        C = labels.iloc[0]\n",
    "        tree.root.setLeaf(label=C)  # 将node标记成C类叶子节点\n",
    "        return tree\n",
    "        \n",
    "    # 3. Boundary Case 2\n",
    "    if Attributes==[] or identicalRows(Dataset.iloc[:, Attributes])# 如果Attributes=∅,或者Dataset在Attributes的这几个属性上取值相同\n",
    "        try:\n",
    "            C=pd.Series.mode(labels)[0]\n",
    "        except KeyError:\n",
    "            C=labels.iloc[0]\n",
    "        except IndexError:\n",
    "            C=labels.iloc[0]\n",
    "        # 将node标记成叶子节点，其类别是Dataset中样本数最多的类\n",
    "        tree.root.setLeaf(label=C)\n",
    "        return tree\n",
    "    \n",
    "    # 4. 选择最优划分属性OptAttr\n",
    "    GiniIndex()\n",
    "    \n",
    "    \n",
    "        "
   ]
  },
  {
   "cell_type": "code",
   "execution_count": 505,
   "metadata": {
    "collapsed": false
   },
   "outputs": [
    {
     "name": "stdout",
     "output_type": "stream",
     "text": [
      "0.19251298904418945\n",
      "(12, 4.015528950271491)\n"
     ]
    },
    {
     "data": {
      "text/plain": [
       "240.0"
      ]
     },
     "execution_count": 505,
     "metadata": {},
     "output_type": "execute_result"
    }
   ],
   "source": [
    "def gini(Dataset):\n",
    "    labels=list(set(Dataset['label']))\n",
    "    nrow=float(len(Dataset))\n",
    "    giniVal=1.0\n",
    "    for label in labels:\n",
    "        percent=float(sum(Dataset['label']==label))/nrow\n",
    "        giniVal=giniVal-percent**2\n",
    "    return giniVal\n",
    "\n",
    "def giniIndex(Dataset, attrName):\n",
    "    giniIndexVal=0.0\n",
    "    nrow=float(len(Dataset))\n",
    "    for attrVal in [0,1]:\n",
    "        subDataset= Dataset[Dataset[attrName]==attrVal]\n",
    "        nrowSub = float(len(subDataset))\n",
    "        giniIndexVal += gini(subDataset)*nrow/nrowSub\n",
    "    return giniIndexVal\n",
    "    \n",
    "def attrSelection(Dataset, Attributes):\n",
    "    minVal= 5.0\n",
    "    optAttr = None\n",
    "    for attr in Attributes:\n",
    "        val=giniIndex(Dataset, str(attr))\n",
    "        if val<minVal:\n",
    "            minVal=val\n",
    "            optAttr=attr\n",
    "    return (optAttr,minVal)\n",
    "        \n",
    "import datetime\n",
    "import time\n",
    "t1=time.time()\n",
    "s=attrSelection(train,[12])\n",
    "t2=time.time()\n",
    "print(t2-t1)\n",
    "print(s)\n",
    "\n",
    "# 一次变量选择需要4分钟！！！！！"
   ]
  },
  {
   "cell_type": "code",
   "execution_count": 495,
   "metadata": {
    "collapsed": false
   },
   "outputs": [
    {
     "data": {
      "text/plain": [
       "False"
      ]
     },
     "execution_count": 495,
     "metadata": {},
     "output_type": "execute_result"
    }
   ],
   "source": [
    "def identicalRows(df):\n",
    "    for rowID in range(len(df)-1):\n",
    "        if not df.iloc[rowID,1:].equals(df.iloc[rowID+1,1:]):\n",
    "            return False\n",
    "    return True\n",
    "\n",
    "\n",
    "lst=np.random.randn(1, 5)\n",
    "df2 = pd.DataFrame(lst)\n",
    "df3 = pd.DataFrame(lst)\n",
    "\n",
    "df = df2.append(df3)\n",
    "df = df.append(pd.DataFrame(lst))\n",
    "df = df.append(pd.DataFrame(np.random.randn(1, 5)))\n",
    "\n",
    "identicalRows(df)"
   ]
  },
  {
   "cell_type": "code",
   "execution_count": 564,
   "metadata": {
    "collapsed": false
   },
   "outputs": [
    {
     "name": "stdout",
     "output_type": "stream",
     "text": [
      "3.8622631033202737\n",
      "3.8622631033202737\n",
      "----------\n",
      "0.007806062698364258\n",
      "0.004185676574707031\n",
      "0.004065036773681641\n"
     ]
    }
   ],
   "source": [
    "# 快速找最小值\n",
    "from functools import reduce\n",
    "\n",
    "l=np.random.rand(1,10000)*10000\n",
    "l=(l.tolist()[0])\n",
    "\n",
    "def fuck(x):\n",
    "    return (x+10)**2\n",
    "    \n",
    "    \n",
    "mina=sorted(l)[0]\n",
    "mina=sorted(l)[0]\n",
    "mina=sorted(l)[0]\n",
    "t1=time.time()\n",
    "mini=reduce(lambda a,b: a if fuck(a) < fuck(b) else b, l[1:], l[0])\n",
    "t2=time.time()\n",
    "\n",
    "\n",
    "t3=time.time()\n",
    "minVal=999999999\n",
    "optNum=None\n",
    "for num in l:\n",
    "    val=fuck(num)\n",
    "    if val<minVal:\n",
    "        minVal=val\n",
    "        optNum=num\n",
    "t4=time.time()    \n",
    "\n",
    "\n",
    "t5=time.time()\n",
    "mina=min(map(fuck,l))\n",
    "t6=time.time()\n",
    "        \n",
    "print(optNum)\n",
    "print(mini)\n",
    "print(\"----------\")\n",
    "print(t2-t1)\n",
    "print(t4-t3)\n",
    "print(t6-t5)"
   ]
  },
  {
   "cell_type": "code",
   "execution_count": null,
   "metadata": {
    "collapsed": true
   },
   "outputs": [],
   "source": []
  },
  {
   "cell_type": "code",
   "execution_count": null,
   "metadata": {
    "collapsed": true
   },
   "outputs": [],
   "source": []
  }
 ],
 "metadata": {
  "kernelspec": {
   "display_name": "Python 3",
   "language": "python",
   "name": "python3"
  },
  "language_info": {
   "codemirror_mode": {
    "name": "ipython",
    "version": 3
   },
   "file_extension": ".py",
   "mimetype": "text/x-python",
   "name": "python",
   "nbconvert_exporter": "python",
   "pygments_lexer": "ipython3",
   "version": "3.6.0"
  }
 },
 "nbformat": 4,
 "nbformat_minor": 2
}
