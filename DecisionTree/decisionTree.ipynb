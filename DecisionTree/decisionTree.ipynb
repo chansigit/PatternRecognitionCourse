{
 "cells": [
  {
   "cell_type": "code",
   "execution_count": 89,
   "metadata": {
    "collapsed": false,
    "deletable": true,
    "editable": true
   },
   "outputs": [
    {
     "name": "stdout",
     "output_type": "stream",
     "text": [
      "[1, 2, 3]\n",
      "\n",
      "\n",
      "&&&&&&&&&&&&&&&&&&&&&&&&&\n"
     ]
    }
   ],
   "source": [
    "class TreeNode:\n",
    "    def __init__(self, attrName):\n",
    "        self.attr=attrName\n",
    "        self.son= dict()\n",
    "        self.isLeaf=False\n",
    "        self.leafLabel=None\n",
    "        \n",
    "    def getAttr(self):\n",
    "        return self.attr\n",
    "    \n",
    "    def setAttr(self, attrName):\n",
    "        self.attr=attrName\n",
    "    \n",
    "    def addSon(self, attrVal, subTree):\n",
    "        self.son[attrVal]=subTree\n",
    "    \n",
    "    def getAllSon(self):\n",
    "        return list(self.son.values())\n",
    "    \n",
    "    def getSonByAttrVal(self, attrVal):\n",
    "        return self.son[attrVal]\n",
    "    \n",
    "    def getCurrentAttrDivision(self):\n",
    "        return list(self.son.keys())\n",
    "    \n",
    "    def setLeaf(self, label):\n",
    "        self.isLeaf=True\n",
    "        self.leafLabel=label\n",
    "        \n",
    "        \n",
    "class Tree:\n",
    "    def __init__(self, rootNode):\n",
    "        self.root=rootNode\n",
    "        \n",
    "    def add(self,nextAttrName,currentVal):\n",
    "        if self.root==None:\n",
    "            print(\"warning: attempt to add a subtree to a null tree\")\n",
    "            return\n",
    "        subTree=Tree(TreeNode(nextAttrName))\n",
    "        self.root.addSon(currentVal,subTree)\n",
    "            \n",
    "    def printTree(self):\n",
    "        if self.root==None:\n",
    "            return\n",
    "        if self.root.isLeaf:\n",
    "            print(\"Reach Leaf:%s\"%self.root.leafLabel)\n",
    "            return\n",
    "        print(\"Node %s has sons:\"%(self.root.getAttr()))\n",
    "        \n",
    "        for subtree in self.root.getAllSon():\n",
    "            if subtree.root==None:\n",
    "                continue\n",
    "            print(\">\"+subtree.root.getAttr())\n",
    "        subtrees=self.root.getAllSon()\n",
    "        for subtree in subtrees:\n",
    "            subtree.printTree()\n",
    "        if subtrees==[]:\n",
    "            print(\">None\")\n",
    "        print(\"--------------\")\n",
    "        \n",
    "    def deleteTree(self):\n",
    "        self.root=None\n",
    "        \n",
    "t=Tree(TreeNode(\"纹理\"))\n",
    "t.add(nextAttrName=\"根蒂\", currentVal=1)\n",
    "t.add(nextAttrName=\"触感\", currentVal=2)\n",
    "t.add(nextAttrName=\"颜色\", currentVal=3)\n",
    "print(t.root.getCurrentAttrDivision())\n",
    "\n",
    "\n",
    "s1=t.root.getSonByAttrVal(1)\n",
    "s1.add(nextAttrName=\"leaf\", currentVal=1)\n",
    "s1.add(nextAttrName=\"色泽\", currentVal=2)\n",
    "s1.add(nextAttrName=\"leaf\", currentVal=3)\n",
    "s1.root.getSonByAttrVal(1).root.setLeaf(\"好瓜\")\n",
    "s1.root.getSonByAttrVal(3).root.setLeaf(\"坏瓜\")\n",
    "#t.printTree()\n",
    "\n",
    "print(\"\\n\\n&&&&&&&&&&&&&&&&&&&&&&&&&\")\n",
    "s1.root.getSonByAttrVal(2).deleteTree()\n",
    "#t.printTree()\n"
   ]
  },
  {
   "cell_type": "code",
   "execution_count": 48,
   "metadata": {
    "collapsed": false,
    "deletable": true,
    "editable": true,
    "scrolled": true
   },
   "outputs": [
    {
     "name": "stdout",
     "output_type": "stream",
     "text": [
      "train size=11520\n",
      "test size=2880\n"
     ]
    },
    {
     "data": {
      "text/plain": [
       "(11520, 1201)"
      ]
     },
     "execution_count": 48,
     "metadata": {},
     "output_type": "execute_result"
    }
   ],
   "source": [
    "\n",
    "import scipy.io\n",
    "rawData = scipy.io.loadmat('Sogou_data/Sogou_webpage.mat')\n",
    "docLabels   = rawData['doclabel']\n",
    "wordVectors = rawData['wordMat']\n",
    "docCnt=len(docLabels)\n",
    "wordCnt =wordVectors.shape[1]\n",
    "\n",
    "\n",
    "import numpy as np\n",
    "import pandas as pd\n",
    "df_wordVectors = pd.DataFrame(data=docLabels, columns=['label'])\n",
    "df_docLabels   = pd.DataFrame(wordVectors,columns=[str(x) for x in range(1,1+wordCnt)])\n",
    "cleanData = pd.concat([df_wordVectors, df_docLabels], axis=1)\n",
    "\n",
    "labelCnt=len(set(cleanData['label']))\n",
    "\n",
    "\n",
    "train = cleanData.sample(frac=0.8)\n",
    "test = cleanData.drop(train.index)\n",
    "\n",
    "print(\"train size=%d\"%len(train))\n",
    "print(\"test size=%d\"%len(test))\n",
    "train.shape\n",
    "#train[train['label']==9]\n",
    "#train"
   ]
  },
  {
   "cell_type": "code",
   "execution_count": 90,
   "metadata": {
    "collapsed": false,
    "deletable": true,
    "editable": true
   },
   "outputs": [],
   "source": [
    "def gini(Dataset):\n",
    "    labels=list(set(Dataset['label']))\n",
    "    nrow=float(len(Dataset))\n",
    "    def ratioSqr(label):\n",
    "        return (float(sum(Dataset['label']==label))/nrow)**2\n",
    "    giniVal=1.0-sum(map(ratioSqr,labels))\n",
    "    return giniVal\n",
    "    \n",
    "def giniIndex(Dataset, attrName):\n",
    "    giniIndexVal=0.0\n",
    "    nrow=float(len(Dataset))\n",
    "    \n",
    "    subDataset= Dataset[Dataset[attrName]==0]\n",
    "    nrowSub = float(len(subDataset))\n",
    "    giniIndexVal += gini(subDataset)/nrowSub\n",
    "    \n",
    "    subDataset= Dataset[Dataset[attrName]==1]\n",
    "    nrowSub = float(len(subDataset))\n",
    "    giniIndexVal += gini(subDataset)/nrowSub\n",
    "    \n",
    "    return giniIndexVal*nrow\n",
    "\n",
    "def attrSelection(Dataset, Attributes, cheatMode=False):\n",
    "    if cheatMode==True:\n",
    "        Dataset=Dataset.sample(frac=0.3)\n",
    "        \n",
    "    def fucktion(attr):\n",
    "        return giniIndex(Dataset,str(attr))\n",
    "    optAttr=min(Attributes, key=fucktion)\n",
    "    return optAttr"
   ]
  },
  {
   "cell_type": "code",
   "execution_count": 91,
   "metadata": {
    "collapsed": false,
    "deletable": true,
    "editable": true,
    "scrolled": true
   },
   "outputs": [],
   "source": [
    "def identicalRows(df):\n",
    "    for rowID in range(len(df)-1):\n",
    "        if not df.iloc[rowID,1:].equals(df.iloc[rowID+1,1:]):\n",
    "            return False\n",
    "    return True\n",
    "    \n",
    "\n",
    "def treeGeneration(Dataset, Attributes):\n",
    "    labels=train['label']\n",
    "    \n",
    "    # 1. 生成空节点node\n",
    "    node = TreeNode(attrName=\"\") \n",
    "    #tree = Tree(rootNode=node)\n",
    "    \n",
    "    # 2. Boundary Case 1\n",
    "    if len(set(labels))==1: # 如果Dataset中的样本全属于同一类别C\n",
    "        C = labels.iloc[0]\n",
    "        node.sefLeaf(label=C)       # 将node标记成C类叶子节点\n",
    "        tree = Tree(rootNode=node)\n",
    "        return tree\n",
    "        \n",
    "    # 3. Boundary Case 2\n",
    "    # 找到Dataset中样本数最多的类\n",
    "    try:\n",
    "        C=pd.Series.mode(labels)[0]\n",
    "    except KeyError:\n",
    "        C=labels.iloc[0]\n",
    "    except IndexError:\n",
    "        C=labels.iloc[0]\n",
    "        \n",
    "    if Attributes==[] or identicalRows(Dataset.iloc[:, Attributes]) :# 如果Attributes=∅,或者Dataset在Attributes的这几个属性上取值相同\n",
    "        node.sefLeaf(label=C)       # 将node标记成叶子节点，其类别是Dataset中样本数最多的类\n",
    "        tree = Tree(rootNode=node)\n",
    "        return tree\n",
    "    \n",
    "    # 4. 选择最优划分属性: optAttr\n",
    "    optAttr=attrSelection(Dataset, Attributes, cheatMode=True)\n",
    "    print(\"selected attr: %d, batch size:%d\"%(optAttr,len(Dataset)))\n",
    "    # 5. 为optAttr属性的每一个值\n",
    "    for optAttrVal in [0,1]:\n",
    "        subDataset = Dataset[Dataset[str(optAttr)]==optAttrVal]\n",
    "        if len(subDataset)==0: #为node加上一个分支，分支为叶子节点，叶子节点类别标记为Dataset中样本数最多的类\n",
    "            leafNode = TreeNode(attrName=\"\")\n",
    "            leafNode.setLeaf(label=C) \n",
    "            leafNodeTree = Tree(rootNode=leafNode)\n",
    "            node.addSon(attrVal=optAttrVal, subTree=leafNodeTree)\n",
    "        else:\n",
    "            sonTree=treeGeneration(Dataset=subDataset, Attributes=Attributes.remove(optAttr))\n",
    "            node.addSon(attrVal=optAttrVal, subTree=sonTree)\n",
    "        \n",
    "    tree = Tree(rootNode=node) \n",
    "    return tree"
   ]
  },
  {
   "cell_type": "code",
   "execution_count": 92,
   "metadata": {
    "collapsed": false
   },
   "outputs": [
    {
     "name": "stdout",
     "output_type": "stream",
     "text": [
      "selected attr: 977, batch size:11520\n"
     ]
    },
    {
     "ename": "ValueError",
     "evalue": "Location based indexing can only have [integer, integer slice (START point is INCLUDED, END point is EXCLUDED), listlike of integers, boolean array] types",
     "output_type": "error",
     "traceback": [
      "\u001b[0;31m---------------------------------------------------------------------------\u001b[0m",
      "\u001b[0;31mValueError\u001b[0m                                Traceback (most recent call last)",
      "\u001b[0;32m<ipython-input-92-f10aa5caee6d>\u001b[0m in \u001b[0;36m<module>\u001b[0;34m()\u001b[0m\n\u001b[0;32m----> 1\u001b[0;31m \u001b[0mtreeGeneration\u001b[0m\u001b[1;33m(\u001b[0m\u001b[0mDataset\u001b[0m\u001b[1;33m=\u001b[0m\u001b[0mtrain\u001b[0m\u001b[1;33m,\u001b[0m \u001b[0mAttributes\u001b[0m\u001b[1;33m=\u001b[0m\u001b[0mlist\u001b[0m\u001b[1;33m(\u001b[0m\u001b[0mrange\u001b[0m\u001b[1;33m(\u001b[0m\u001b[1;36m1\u001b[0m\u001b[1;33m,\u001b[0m\u001b[1;36m1\u001b[0m\u001b[1;33m+\u001b[0m\u001b[1;36m1200\u001b[0m\u001b[1;33m)\u001b[0m\u001b[1;33m)\u001b[0m\u001b[1;33m)\u001b[0m\u001b[1;33m\u001b[0m\u001b[0m\n\u001b[0m",
      "\u001b[0;32m<ipython-input-91-f201106c597f>\u001b[0m in \u001b[0;36mtreeGeneration\u001b[0;34m(Dataset, Attributes)\u001b[0m\n\u001b[1;32m     46\u001b[0m             \u001b[0mnode\u001b[0m\u001b[1;33m.\u001b[0m\u001b[0maddSon\u001b[0m\u001b[1;33m(\u001b[0m\u001b[0mattrVal\u001b[0m\u001b[1;33m=\u001b[0m\u001b[0moptAttrVal\u001b[0m\u001b[1;33m,\u001b[0m \u001b[0msubTree\u001b[0m\u001b[1;33m=\u001b[0m\u001b[0mleafNodeTree\u001b[0m\u001b[1;33m)\u001b[0m\u001b[1;33m\u001b[0m\u001b[0m\n\u001b[1;32m     47\u001b[0m         \u001b[1;32melse\u001b[0m\u001b[1;33m:\u001b[0m\u001b[1;33m\u001b[0m\u001b[0m\n\u001b[0;32m---> 48\u001b[0;31m             \u001b[0msonTree\u001b[0m\u001b[1;33m=\u001b[0m\u001b[0mtreeGeneration\u001b[0m\u001b[1;33m(\u001b[0m\u001b[0mDataset\u001b[0m\u001b[1;33m=\u001b[0m\u001b[0msubDataset\u001b[0m\u001b[1;33m,\u001b[0m \u001b[0mAttributes\u001b[0m\u001b[1;33m=\u001b[0m\u001b[0mAttributes\u001b[0m\u001b[1;33m.\u001b[0m\u001b[0mremove\u001b[0m\u001b[1;33m(\u001b[0m\u001b[0moptAttr\u001b[0m\u001b[1;33m)\u001b[0m\u001b[1;33m)\u001b[0m\u001b[1;33m\u001b[0m\u001b[0m\n\u001b[0m\u001b[1;32m     49\u001b[0m             \u001b[0mnode\u001b[0m\u001b[1;33m.\u001b[0m\u001b[0maddSon\u001b[0m\u001b[1;33m(\u001b[0m\u001b[0mattrVal\u001b[0m\u001b[1;33m=\u001b[0m\u001b[0moptAttrVal\u001b[0m\u001b[1;33m,\u001b[0m \u001b[0msubTree\u001b[0m\u001b[1;33m=\u001b[0m\u001b[0msonTree\u001b[0m\u001b[1;33m)\u001b[0m\u001b[1;33m\u001b[0m\u001b[0m\n\u001b[1;32m     50\u001b[0m \u001b[1;33m\u001b[0m\u001b[0m\n",
      "\u001b[0;32m<ipython-input-91-f201106c597f>\u001b[0m in \u001b[0;36mtreeGeneration\u001b[0;34m(Dataset, Attributes)\u001b[0m\n\u001b[1;32m     29\u001b[0m         \u001b[0mC\u001b[0m\u001b[1;33m=\u001b[0m\u001b[0mlabels\u001b[0m\u001b[1;33m.\u001b[0m\u001b[0miloc\u001b[0m\u001b[1;33m[\u001b[0m\u001b[1;36m0\u001b[0m\u001b[1;33m]\u001b[0m\u001b[1;33m\u001b[0m\u001b[0m\n\u001b[1;32m     30\u001b[0m \u001b[1;33m\u001b[0m\u001b[0m\n\u001b[0;32m---> 31\u001b[0;31m     \u001b[1;32mif\u001b[0m \u001b[0mAttributes\u001b[0m\u001b[1;33m==\u001b[0m\u001b[1;33m[\u001b[0m\u001b[1;33m]\u001b[0m \u001b[1;32mor\u001b[0m \u001b[0midenticalRows\u001b[0m\u001b[1;33m(\u001b[0m\u001b[0mDataset\u001b[0m\u001b[1;33m.\u001b[0m\u001b[0miloc\u001b[0m\u001b[1;33m[\u001b[0m\u001b[1;33m:\u001b[0m\u001b[1;33m,\u001b[0m \u001b[0mAttributes\u001b[0m\u001b[1;33m]\u001b[0m\u001b[1;33m)\u001b[0m \u001b[1;33m:\u001b[0m\u001b[1;31m# 如果Attributes=∅,或者Dataset在Attributes的这几个属性上取值相同\u001b[0m\u001b[1;33m\u001b[0m\u001b[0m\n\u001b[0m\u001b[1;32m     32\u001b[0m         \u001b[0mnode\u001b[0m\u001b[1;33m.\u001b[0m\u001b[0msefLeaf\u001b[0m\u001b[1;33m(\u001b[0m\u001b[0mlabel\u001b[0m\u001b[1;33m=\u001b[0m\u001b[0mC\u001b[0m\u001b[1;33m)\u001b[0m       \u001b[1;31m# 将node标记成叶子节点，其类别是Dataset中样本数最多的类\u001b[0m\u001b[1;33m\u001b[0m\u001b[0m\n\u001b[1;32m     33\u001b[0m         \u001b[0mtree\u001b[0m \u001b[1;33m=\u001b[0m \u001b[0mTree\u001b[0m\u001b[1;33m(\u001b[0m\u001b[0mrootNode\u001b[0m\u001b[1;33m=\u001b[0m\u001b[0mnode\u001b[0m\u001b[1;33m)\u001b[0m\u001b[1;33m\u001b[0m\u001b[0m\n",
      "\u001b[0;32mc:\\program files\\python35\\lib\\site-packages\\pandas\\core\\indexing.py\u001b[0m in \u001b[0;36m__getitem__\u001b[0;34m(self, key)\u001b[0m\n\u001b[1;32m   1308\u001b[0m \u001b[1;33m\u001b[0m\u001b[0m\n\u001b[1;32m   1309\u001b[0m         \u001b[1;32mif\u001b[0m \u001b[0mtype\u001b[0m\u001b[1;33m(\u001b[0m\u001b[0mkey\u001b[0m\u001b[1;33m)\u001b[0m \u001b[1;32mis\u001b[0m \u001b[0mtuple\u001b[0m\u001b[1;33m:\u001b[0m\u001b[1;33m\u001b[0m\u001b[0m\n\u001b[0;32m-> 1310\u001b[0;31m             \u001b[1;32mreturn\u001b[0m \u001b[0mself\u001b[0m\u001b[1;33m.\u001b[0m\u001b[0m_getitem_tuple\u001b[0m\u001b[1;33m(\u001b[0m\u001b[0mkey\u001b[0m\u001b[1;33m)\u001b[0m\u001b[1;33m\u001b[0m\u001b[0m\n\u001b[0m\u001b[1;32m   1311\u001b[0m         \u001b[1;32melse\u001b[0m\u001b[1;33m:\u001b[0m\u001b[1;33m\u001b[0m\u001b[0m\n\u001b[1;32m   1312\u001b[0m             \u001b[1;32mreturn\u001b[0m \u001b[0mself\u001b[0m\u001b[1;33m.\u001b[0m\u001b[0m_getitem_axis\u001b[0m\u001b[1;33m(\u001b[0m\u001b[0mkey\u001b[0m\u001b[1;33m,\u001b[0m \u001b[0maxis\u001b[0m\u001b[1;33m=\u001b[0m\u001b[1;36m0\u001b[0m\u001b[1;33m)\u001b[0m\u001b[1;33m\u001b[0m\u001b[0m\n",
      "\u001b[0;32mc:\\program files\\python35\\lib\\site-packages\\pandas\\core\\indexing.py\u001b[0m in \u001b[0;36m_getitem_tuple\u001b[0;34m(self, tup)\u001b[0m\n\u001b[1;32m   1558\u001b[0m     \u001b[1;32mdef\u001b[0m \u001b[0m_getitem_tuple\u001b[0m\u001b[1;33m(\u001b[0m\u001b[0mself\u001b[0m\u001b[1;33m,\u001b[0m \u001b[0mtup\u001b[0m\u001b[1;33m)\u001b[0m\u001b[1;33m:\u001b[0m\u001b[1;33m\u001b[0m\u001b[0m\n\u001b[1;32m   1559\u001b[0m \u001b[1;33m\u001b[0m\u001b[0m\n\u001b[0;32m-> 1560\u001b[0;31m         \u001b[0mself\u001b[0m\u001b[1;33m.\u001b[0m\u001b[0m_has_valid_tuple\u001b[0m\u001b[1;33m(\u001b[0m\u001b[0mtup\u001b[0m\u001b[1;33m)\u001b[0m\u001b[1;33m\u001b[0m\u001b[0m\n\u001b[0m\u001b[1;32m   1561\u001b[0m         \u001b[1;32mtry\u001b[0m\u001b[1;33m:\u001b[0m\u001b[1;33m\u001b[0m\u001b[0m\n\u001b[1;32m   1562\u001b[0m             \u001b[1;32mreturn\u001b[0m \u001b[0mself\u001b[0m\u001b[1;33m.\u001b[0m\u001b[0m_getitem_lowerdim\u001b[0m\u001b[1;33m(\u001b[0m\u001b[0mtup\u001b[0m\u001b[1;33m)\u001b[0m\u001b[1;33m\u001b[0m\u001b[0m\n",
      "\u001b[0;32mc:\\program files\\python35\\lib\\site-packages\\pandas\\core\\indexing.py\u001b[0m in \u001b[0;36m_has_valid_tuple\u001b[0;34m(self, key)\u001b[0m\n\u001b[1;32m    151\u001b[0m             \u001b[1;32mif\u001b[0m \u001b[1;32mnot\u001b[0m \u001b[0mself\u001b[0m\u001b[1;33m.\u001b[0m\u001b[0m_has_valid_type\u001b[0m\u001b[1;33m(\u001b[0m\u001b[0mk\u001b[0m\u001b[1;33m,\u001b[0m \u001b[0mi\u001b[0m\u001b[1;33m)\u001b[0m\u001b[1;33m:\u001b[0m\u001b[1;33m\u001b[0m\u001b[0m\n\u001b[1;32m    152\u001b[0m                 raise ValueError(\"Location based indexing can only have [%s] \"\n\u001b[0;32m--> 153\u001b[0;31m                                  \"types\" % self._valid_types)\n\u001b[0m\u001b[1;32m    154\u001b[0m \u001b[1;33m\u001b[0m\u001b[0m\n\u001b[1;32m    155\u001b[0m     \u001b[1;32mdef\u001b[0m \u001b[0m_should_validate_iterable\u001b[0m\u001b[1;33m(\u001b[0m\u001b[0mself\u001b[0m\u001b[1;33m,\u001b[0m \u001b[0maxis\u001b[0m\u001b[1;33m=\u001b[0m\u001b[1;36m0\u001b[0m\u001b[1;33m)\u001b[0m\u001b[1;33m:\u001b[0m\u001b[1;33m\u001b[0m\u001b[0m\n",
      "\u001b[0;31mValueError\u001b[0m: Location based indexing can only have [integer, integer slice (START point is INCLUDED, END point is EXCLUDED), listlike of integers, boolean array] types"
     ]
    }
   ],
   "source": [
    "treeGeneration(Dataset=train, Attributes=list(range(1,1+1200)))"
   ]
  },
  {
   "cell_type": "code",
   "execution_count": 72,
   "metadata": {
    "collapsed": false,
    "deletable": true,
    "editable": true
   },
   "outputs": [
    {
     "name": "stdout",
     "output_type": "stream",
     "text": [
      "572.7278709411621\n",
      "1\n",
      "csdfsdfsdfsdfdsfgds\n",
      "0.05815553665161133\n",
      "11520\n",
      "0.07921242713928223\n",
      "11520\n"
     ]
    }
   ],
   "source": [
    "def gini_deprecated(Dataset):\n",
    "    labels=list(set(Dataset['label']))\n",
    "    nrow=float(len(Dataset))\n",
    "    giniVal=1.0\n",
    "    for label in labels:\n",
    "        percent=float(sum(Dataset['label']==label))/nrow\n",
    "        giniVal=giniVal-percent**2\n",
    "    return giniVal\n",
    "\n",
    "def gini(Dataset):\n",
    "    labels=list(set(Dataset['label']))\n",
    "    nrow=float(len(Dataset))\n",
    "    def ratioSqr(label):\n",
    "        return (float(sum(Dataset['label']==label))/nrow)**2\n",
    "    giniVal=1.0-sum(map(ratioSqr,labels))\n",
    "    return giniVal\n",
    "\n",
    "def giniIndex_deprecated(Dataset, attrName):\n",
    "    giniIndexVal=0.0\n",
    "    nrow=float(len(Dataset))\n",
    "    for attrVal in [0,1]:\n",
    "        subDataset= Dataset[Dataset[attrName]==attrVal]\n",
    "        nrowSub = float(len(subDataset))\n",
    "        giniIndexVal += gini(subDataset)*nrow/nrowSub\n",
    "    return giniIndexVal\n",
    "    \n",
    "def giniIndex(Dataset, attrName):\n",
    "    giniIndexVal=0.0\n",
    "    nrow=float(len(Dataset))\n",
    "    \n",
    "    subDataset= Dataset[Dataset[attrName]==0]\n",
    "    nrowSub = float(len(subDataset))\n",
    "    giniIndexVal += gini(subDataset)/nrowSub\n",
    "    \n",
    "    subDataset= Dataset[Dataset[attrName]==1]\n",
    "    nrowSub = float(len(subDataset))\n",
    "    giniIndexVal += gini(subDataset)/nrowSub\n",
    "    \n",
    "    return giniIndexVal*nrow\n",
    "\n",
    "def attrSelection_deprecated(Dataset, Attributes):\n",
    "    minVal= 5.0\n",
    "    optAttr = None\n",
    "    for attr in Attributes:\n",
    "        val=giniIndex(Dataset, str(attr))\n",
    "        if val<minVal:\n",
    "            minVal=val\n",
    "            optAttr=attr\n",
    "    return (optAttr,minVal)\n",
    "\n",
    "def attrSelection(Dataset, Attributes):\n",
    "    def fucktion(attr):\n",
    "        return giniIndex(Dataset,str(attr))\n",
    "    optAttr=min(Attributes, key=fucktion)\n",
    "    return optAttr\n",
    "\n",
    "import time\n",
    "t1=time.time()\n",
    "s=attrSelection(train,[1,2,3,4])\n",
    "t2=time.time()\n",
    "print((t2-t1)*1200)\n",
    "print(s)\n",
    "\n",
    "# 一次变量选择需要4分钟！！！！！\n"
   ]
  },
  {
   "cell_type": "code",
   "execution_count": 495,
   "metadata": {
    "collapsed": false,
    "deletable": true,
    "editable": true
   },
   "outputs": [
    {
     "data": {
      "text/plain": [
       "False"
      ]
     },
     "execution_count": 495,
     "metadata": {},
     "output_type": "execute_result"
    }
   ],
   "source": [
    "def identicalRows(df):\n",
    "    for rowID in range(len(df)-1):\n",
    "        if not df.iloc[rowID,1:].equals(df.iloc[rowID+1,1:]):\n",
    "            return False\n",
    "    return True\n",
    "\n",
    "\n",
    "lst=np.random.randn(1, 5)\n",
    "df2 = pd.DataFrame(lst)\n",
    "df3 = pd.DataFrame(lst)\n",
    "\n",
    "df = df2.append(df3)\n",
    "df = df.append(pd.DataFrame(lst))\n",
    "df = df.append(pd.DataFrame(np.random.randn(1, 5)))\n",
    "\n",
    "identicalRows(df)"
   ]
  },
  {
   "cell_type": "code",
   "execution_count": 30,
   "metadata": {
    "collapsed": false,
    "deletable": true,
    "editable": true
   },
   "outputs": [
    {
     "name": "stdout",
     "output_type": "stream",
     "text": [
      "48.932424677758746\n",
      "0.42061781883239746\n",
      "----------\n",
      "-0.9999999999999897\n",
      "0.4216275215148926\n",
      "----------\n",
      "48.932424677758746\n",
      "0.4655306339263916\n",
      "----------\n",
      "48.932424677758746\n",
      "0.8728272914886475\n",
      "----------\n"
     ]
    }
   ],
   "source": [
    "# 快速找最小值\n",
    "from functools import reduce\n",
    "import numpy as np\n",
    "import time\n",
    "import math\n",
    "\n",
    "l=np.random.rand(1,1000000)*100\n",
    "l=(l.tolist()[0])\n",
    "\n",
    "def fuck(x):\n",
    "    return math.sin((x+10)**2)\n",
    "    \n",
    "    \n",
    "mina=sorted(l)[0]\n",
    "\n",
    "\n",
    "t1=time.time()\n",
    "mini=min(l, key=fuck)\n",
    "t2=time.time()\n",
    "print(mini)\n",
    "print(t2-t1)\n",
    "print(\"----------\")\n",
    "\n",
    "\n",
    "t1=time.time()\n",
    "mina=min(map(fuck,l))\n",
    "t2=time.time()\n",
    "print(mina)\n",
    "print(t2-t1)\n",
    "print(\"----------\")\n",
    "\n",
    "t1=time.time()\n",
    "minVal=999999999\n",
    "optNum=None\n",
    "for num in l:\n",
    "    val=fuck(num)\n",
    "    if val<minVal:\n",
    "        minVal=val\n",
    "        optNum=num\n",
    "t2=time.time()\n",
    "print(optNum)\n",
    "print(t2-t1)\n",
    "print(\"----------\")\n",
    "\n",
    "\n",
    "\n",
    "t1=time.time()\n",
    "mini=reduce(lambda a,b: a if fuck(a) < fuck(b) else b, l[1:], l[0])\n",
    "t2=time.time()\n",
    "print(mini)\n",
    "print(t2-t1)\n",
    "print(\"----------\")\n",
    "\n"
   ]
  },
  {
   "cell_type": "code",
   "execution_count": 46,
   "metadata": {
    "collapsed": false,
    "deletable": true,
    "editable": true
   },
   "outputs": [
    {
     "name": "stdout",
     "output_type": "stream",
     "text": [
      "-499254.9876227111\n",
      "0.5740292072296143\n",
      "====================\n",
      "-499254.9876227111\n",
      "0.6207835674285889\n",
      "====================\n"
     ]
    }
   ],
   "source": [
    "# 快速求和\n",
    "#import itertools\n",
    "#from itertools import map\n",
    "\n",
    "xlist=np.random.rand(1,1000000)*100\n",
    "xlist=(xlist.tolist()[0])\n",
    "\n",
    "def fuck(x):\n",
    "    return (math.sin((x+10)**2))**2\n",
    "\n",
    "t1=time.time()\n",
    "he=1-sum(map(fuck, xlist))\n",
    "t2=time.time()\n",
    "print(he)\n",
    "print(t2-t1)\n",
    "print(\"====================\")\n",
    "\n",
    "\n",
    "t1=time.time()\n",
    "he=0.0\n",
    "for x in xlist:\n",
    "    he+=fuck(x)\n",
    "he=1-he\n",
    "t2=time.time()\n",
    "print(he)\n",
    "print(t2-t1)\n",
    "print(\"====================\")\n"
   ]
  },
  {
   "cell_type": "code",
   "execution_count": 95,
   "metadata": {
    "collapsed": false,
    "deletable": true,
    "editable": true
   },
   "outputs": [
    {
     "data": {
      "text/plain": [
       "[]"
      ]
     },
     "execution_count": 95,
     "metadata": {},
     "output_type": "execute_result"
    }
   ],
   "source": [
    "att=[11]\n",
    "att.remove(11)\n",
    "att"
   ]
  },
  {
   "cell_type": "code",
   "execution_count": 101,
   "metadata": {
    "collapsed": false
   },
   "outputs": [
    {
     "data": {
      "text/plain": [
       "1.0"
      ]
     },
     "execution_count": 101,
     "metadata": {},
     "output_type": "execute_result"
    }
   ],
   "source": [
    "import math\n",
    "math.log(2,2)"
   ]
  },
  {
   "cell_type": "code",
   "execution_count": null,
   "metadata": {
    "collapsed": true
   },
   "outputs": [],
   "source": [
    "import"
   ]
  }
 ],
 "metadata": {
  "kernelspec": {
   "display_name": "Python 3",
   "language": "python",
   "name": "python3"
  },
  "language_info": {
   "codemirror_mode": {
    "name": "ipython",
    "version": 3
   },
   "file_extension": ".py",
   "mimetype": "text/x-python",
   "name": "python",
   "nbconvert_exporter": "python",
   "pygments_lexer": "ipython3",
   "version": "3.5.2"
  }
 },
 "nbformat": 4,
 "nbformat_minor": 2
}
